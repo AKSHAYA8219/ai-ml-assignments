{
  "nbformat": 4,
  "nbformat_minor": 0,
  "metadata": {
    "colab": {
      "name": "Week 3 assignment.ipynb",
      "version": "0.3.2",
      "provenance": [],
      "collapsed_sections": []
    },
    "kernelspec": {
      "display_name": "Python 2",
      "language": "python",
      "name": "python2"
    },
    "accelerator": "GPU"
  },
  "cells": [
    {
      "metadata": {
        "id": "6ykqDQPOdmkf",
        "colab_type": "text"
      },
      "cell_type": "markdown",
      "source": [
        "# Implementing a neural network with a single hidden layer\n",
        "\n",
        "In this assignment you will learn to implement a neural network with a single hidden layer and apply it on a toy dataset. You will be using this neural networks to perform binary classification. In a binary classification problem, each input belongs to one of two classes, say 0 or 1, and the goal is to predict the correct class of each input. This assignment will help you understand how backpropagation is done in neural networks. This notebook is based on the material from: <br/>\n",
        "http://cs231n.github.io/neural-networks-case-study/ <br/>\n",
        "https://cs.stanford.edu/people/karpathy/cs231nfiles/minimal_net.html <br/>\n",
        "contribution from <a href=\"https://github.com/Abhi001vj\"> Abhilash V Jayakumar </a> \n",
        "\n",
        "\n",
        "#### Instructions\n",
        "-  Do not use any additional libraries other than what is already specified below\n",
        "-  Do not use loops in your code, use numpy for vectorized implementation\n",
        "-  Do not edit \"Expected output\" markdown cells\n",
        "-  Use https://forum.mulearn.org/ for asking any questions you may have about this assignment\n"
      ]
    },
    {
      "metadata": {
        "id": "gjtU36Yvdmkj",
        "colab_type": "text"
      },
      "cell_type": "markdown",
      "source": [
        "### 1. Import Libraries\n",
        "For this assignment we will import the following libraries:"
      ]
    },
    {
      "metadata": {
        "id": "LzUev4SZdmkl",
        "colab_type": "code",
        "colab": {
          "base_uri": "https://localhost:8080/",
          "height": 141
        },
        "outputId": "4297e6b7-7828-4b2a-c191-2be2b1fe8fe6"
      },
      "cell_type": "code",
      "source": [
        "#Checking out the repository to make it work with colab\n",
        "!git clone https://github.com/AKSHAYA8219/ai-ml-assignments.git"
      ],
      "execution_count": 2,
      "outputs": [
        {
          "output_type": "stream",
          "text": [
            "Cloning into 'ai-ml-assignments'...\n",
            "remote: Enumerating objects: 54, done.\u001b[K\n",
            "remote: Counting objects:   1% (1/54)   \u001b[K\rremote: Counting objects:   3% (2/54)   \u001b[K\rremote: Counting objects:   5% (3/54)   \u001b[K\rremote: Counting objects:   7% (4/54)   \u001b[K\rremote: Counting objects:   9% (5/54)   \u001b[K\rremote: Counting objects:  11% (6/54)   \u001b[K\rremote: Counting objects:  12% (7/54)   \u001b[K\rremote: Counting objects:  14% (8/54)   \u001b[K\rremote: Counting objects:  16% (9/54)   \u001b[K\rremote: Counting objects:  18% (10/54)   \u001b[K\rremote: Counting objects:  20% (11/54)   \u001b[K\rremote: Counting objects:  22% (12/54)   \u001b[K\rremote: Counting objects:  24% (13/54)   \u001b[K\rremote: Counting objects:  25% (14/54)   \u001b[K\rremote: Counting objects:  27% (15/54)   \u001b[K\rremote: Counting objects:  29% (16/54)   \u001b[K\rremote: Counting objects:  31% (17/54)   \u001b[K\rremote: Counting objects:  33% (18/54)   \u001b[K\rremote: Counting objects:  35% (19/54)   \u001b[K\rremote: Counting objects:  37% (20/54)   \u001b[K\rremote: Counting objects:  38% (21/54)   \u001b[K\rremote: Counting objects:  40% (22/54)   \u001b[K\rremote: Counting objects:  42% (23/54)   \u001b[K\rremote: Counting objects:  44% (24/54)   \u001b[K\rremote: Counting objects:  46% (25/54)   \u001b[K\rremote: Counting objects:  48% (26/54)   \u001b[K\rremote: Counting objects:  50% (27/54)   \u001b[K\rremote: Counting objects:  51% (28/54)   \u001b[K\rremote: Counting objects:  53% (29/54)   \u001b[K\rremote: Counting objects:  55% (30/54)   \u001b[K\rremote: Counting objects:  57% (31/54)   \u001b[K\rremote: Counting objects:  59% (32/54)   \u001b[K\rremote: Counting objects:  61% (33/54)   \u001b[K\rremote: Counting objects:  62% (34/54)   \u001b[K\rremote: Counting objects:  64% (35/54)   \u001b[K\rremote: Counting objects:  66% (36/54)   \u001b[K\rremote: Counting objects:  68% (37/54)   \u001b[K\rremote: Counting objects:  70% (38/54)   \u001b[K\rremote: Counting objects:  72% (39/54)   \u001b[K\rremote: Counting objects:  74% (40/54)   \u001b[K\rremote: Counting objects:  75% (41/54)   \u001b[K\rremote: Counting objects:  77% (42/54)   \u001b[K\rremote: Counting objects:  79% (43/54)   \u001b[K\rremote: Counting objects:  81% (44/54)   \u001b[K\rremote: Counting objects:  83% (45/54)   \u001b[K\rremote: Counting objects:  85% (46/54)   \u001b[K\rremote: Counting objects:  87% (47/54)   \u001b[K\rremote: Counting objects:  88% (48/54)   \u001b[K\rremote: Counting objects:  90% (49/54)   \u001b[K\rremote: Counting objects:  92% (50/54)   \u001b[K\rremote: Counting objects:  94% (51/54)   \u001b[K\rremote: Counting objects:  96% (52/54)   \u001b[K\rremote: Counting objects:  98% (53/54)   \rremote: Counting objects: 100% (54/54)   \u001b[K\rremote: Counting objects: 100% (54/54), done.\u001b[K\n",
            "remote: Compressing objects:   2% (1/36)   \u001b[K\rremote: Compressing objects:   5% (2/36)   \u001b[K\rremote: Compressing objects:   8% (3/36)   \u001b[K\rremote: Compressing objects:  11% (4/36)   \u001b[K\rremote: Compressing objects:  13% (5/36)   \u001b[K\rremote: Compressing objects:  16% (6/36)   \u001b[K\rremote: Compressing objects:  19% (7/36)   \u001b[K\rremote: Compressing objects:  22% (8/36)   \u001b[K\rremote: Compressing objects:  25% (9/36)   \u001b[K\rremote: Compressing objects:  27% (10/36)   \u001b[K\rremote: Compressing objects:  30% (11/36)   \u001b[K\rremote: Compressing objects:  33% (12/36)   \u001b[K\rremote: Compressing objects:  36% (13/36)   \u001b[K\rremote: Compressing objects:  38% (14/36)   \u001b[K\rremote: Compressing objects:  41% (15/36)   \u001b[K\rremote: Compressing objects:  44% (16/36)   \u001b[K\rremote: Compressing objects:  47% (17/36)   \u001b[K\rremote: Compressing objects:  50% (18/36)   \u001b[K\rremote: Compressing objects:  52% (19/36)   \u001b[K\rremote: Compressing objects:  55% (20/36)   \u001b[K\rremote: Compressing objects:  58% (21/36)   \u001b[K\rremote: Compressing objects:  61% (22/36)   \u001b[K\rremote: Compressing objects:  63% (23/36)   \u001b[K\rremote: Compressing objects:  66% (24/36)   \u001b[K\rremote: Compressing objects:  69% (25/36)   \u001b[K\rremote: Compressing objects:  72% (26/36)   \u001b[K\rremote: Compressing objects:  75% (27/36)   \u001b[K\rremote: Compressing objects:  77% (28/36)   \u001b[K\rremote: Compressing objects:  80% (29/36)   \u001b[K\rremote: Compressing objects:  83% (30/36)   \u001b[K\rremote: Compressing objects:  86% (31/36)   \u001b[K\rremote: Compressing objects:  88% (32/36)   \u001b[K\rremote: Compressing objects:  91% (33/36)   \u001b[K\rremote: Compressing objects:  94% (34/36)   \u001b[K\rremote: Compressing objects:  97% (35/36)   \u001b[K\rremote: Compressing objects: 100% (36/36)   \u001b[K\rremote: Compressing objects: 100% (36/36), done.\u001b[K\n",
            "Receiving objects:   0% (1/178)   \rReceiving objects:   1% (2/178)   \rReceiving objects:   2% (4/178)   \rReceiving objects:   3% (6/178)   \rReceiving objects:   4% (8/178)   \rReceiving objects:   5% (9/178)   \rReceiving objects:   6% (11/178)   \rReceiving objects:   7% (13/178)   \rReceiving objects:   8% (15/178)   \rReceiving objects:   9% (17/178)   \rReceiving objects:  10% (18/178)   \rReceiving objects:  11% (20/178)   \rReceiving objects:  12% (22/178)   \rReceiving objects:  13% (24/178)   \rReceiving objects:  14% (25/178)   \rReceiving objects:  15% (27/178)   \rReceiving objects:  16% (29/178)   \rReceiving objects:  17% (31/178)   \rReceiving objects:  18% (33/178)   \rReceiving objects:  19% (34/178)   \rReceiving objects:  20% (36/178)   \rReceiving objects:  21% (38/178)   \rReceiving objects:  22% (40/178)   \rReceiving objects:  23% (41/178)   \rReceiving objects:  24% (43/178)   \rReceiving objects:  25% (45/178)   \rReceiving objects:  26% (47/178)   \rReceiving objects:  27% (49/178)   \rReceiving objects:  28% (50/178)   \rReceiving objects:  29% (52/178)   \rReceiving objects:  30% (54/178)   \rReceiving objects:  31% (56/178)   \rReceiving objects:  32% (57/178)   \rReceiving objects:  33% (59/178)   \rReceiving objects:  34% (61/178)   \rReceiving objects:  35% (63/178)   \rReceiving objects:  36% (65/178)   \rReceiving objects:  37% (66/178)   \rReceiving objects:  38% (68/178)   \rReceiving objects:  39% (70/178)   \rReceiving objects:  40% (72/178)   \rReceiving objects:  41% (73/178)   \rReceiving objects:  42% (75/178)   \rReceiving objects:  43% (77/178)   \rReceiving objects:  44% (79/178)   \rReceiving objects:  45% (81/178)   \rReceiving objects:  46% (82/178)   \rReceiving objects:  47% (84/178)   \rReceiving objects:  48% (86/178)   \rReceiving objects:  49% (88/178)   \rReceiving objects:  50% (89/178)   \rReceiving objects:  51% (91/178)   \rReceiving objects:  52% (93/178)   \rReceiving objects:  53% (95/178)   \rReceiving objects:  54% (97/178)   \rReceiving objects:  55% (98/178)   \rReceiving objects:  56% (100/178)   \rReceiving objects:  57% (102/178)   \rReceiving objects:  58% (104/178)   \rReceiving objects:  59% (106/178)   \rReceiving objects:  60% (107/178)   \rReceiving objects:  61% (109/178)   \rReceiving objects:  62% (111/178)   \rReceiving objects:  63% (113/178)   \rReceiving objects:  64% (114/178)   \rReceiving objects:  65% (116/178)   \rReceiving objects:  66% (118/178)   \rReceiving objects:  67% (120/178)   \rReceiving objects:  68% (122/178)   \rReceiving objects:  69% (123/178)   \rReceiving objects:  70% (125/178)   \rReceiving objects:  71% (127/178)   \rReceiving objects:  72% (129/178)   \rReceiving objects:  73% (130/178)   \rReceiving objects:  74% (132/178)   \rReceiving objects:  75% (134/178)   \rReceiving objects:  76% (136/178)   \rReceiving objects:  77% (138/178)   \rReceiving objects:  78% (139/178)   \rReceiving objects:  79% (141/178)   \rremote: Total 178 (delta 22), reused 40 (delta 12), pack-reused 124\u001b[K\n",
            "Receiving objects:  80% (143/178)   \rReceiving objects:  81% (145/178)   \rReceiving objects:  82% (146/178)   \rReceiving objects:  83% (148/178)   \rReceiving objects:  84% (150/178)   \rReceiving objects:  85% (152/178)   \rReceiving objects:  86% (154/178)   \rReceiving objects:  87% (155/178)   \rReceiving objects:  88% (157/178)   \rReceiving objects:  89% (159/178)   \rReceiving objects:  90% (161/178)   \rReceiving objects:  91% (162/178)   \rReceiving objects:  92% (164/178)   \rReceiving objects:  93% (166/178)   \rReceiving objects:  94% (168/178)   \rReceiving objects:  95% (170/178)   \rReceiving objects:  96% (171/178)   \rReceiving objects:  97% (173/178)   \rReceiving objects:  98% (175/178)   \rReceiving objects:  99% (177/178)   \rReceiving objects: 100% (178/178)   \rReceiving objects: 100% (178/178), 918.89 KiB | 13.71 MiB/s, done.\n",
            "Resolving deltas:   0% (0/67)   \rResolving deltas:  20% (14/67)   \rResolving deltas:  23% (16/67)   \rResolving deltas:  28% (19/67)   \rResolving deltas:  31% (21/67)   \rResolving deltas:  32% (22/67)   \rResolving deltas:  34% (23/67)   \rResolving deltas:  37% (25/67)   \rResolving deltas:  43% (29/67)   \rResolving deltas:  50% (34/67)   \rResolving deltas:  56% (38/67)   \rResolving deltas:  58% (39/67)   \rResolving deltas:  73% (49/67)   \rResolving deltas:  82% (55/67)   \rResolving deltas:  89% (60/67)   \rResolving deltas:  94% (63/67)   \rResolving deltas:  95% (64/67)   \rResolving deltas: 100% (67/67)   \rResolving deltas: 100% (67/67), done.\n"
          ],
          "name": "stdout"
        }
      ]
    },
    {
      "metadata": {
        "id": "HCxK0miodmkt",
        "colab_type": "code",
        "colab": {}
      },
      "cell_type": "code",
      "source": [
        "# import libraries\n",
        "import numpy as np\n",
        "import matplotlib.pyplot as plt\n",
        "import sys\n",
        "sys.path.append('ai-ml-assignments')\n",
        "from utils import utils\n",
        "from utils.utils import sigmoid"
      ],
      "execution_count": 0,
      "outputs": []
    },
    {
      "metadata": {
        "id": "sk8tPX-idmk1",
        "colab_type": "text"
      },
      "cell_type": "markdown",
      "source": [
        "### 2. Creating the data\n",
        "Let us create the same simple dataset that we used for logistic regression assignment and visualise it."
      ]
    },
    {
      "metadata": {
        "colab_type": "code",
        "id": "12oCRiBvzCa5",
        "outputId": "047bdc09-a5a1-42b2-cfda-76d98c17ea2f",
        "colab": {
          "base_uri": "https://localhost:8080/",
          "height": 707
        }
      },
      "cell_type": "code",
      "source": [
        "X_train,yhat_train,X_test,yhat_test = utils.create_simple_dataset()\n"
      ],
      "execution_count": 4,
      "outputs": [
        {
          "output_type": "display_data",
          "data": {
            "image/png": "[encoded data removed]",
            "text/plain": [
              "<Figure size 576x396 with 1 Axes>"
            ]
          },
          "metadata": {
            "tags": []
          }
        },
        {
          "output_type": "display_data",
          "data": {
            "image/png": "[encoded data removed]",
            "text/plain": [
              "<Figure size 576x396 with 1 Axes>"
            ]
          },
          "metadata": {
            "tags": []
          }
        }
      ]
    },
    {
      "metadata": {
        "id": "0NouctGddmk_",
        "colab_type": "text"
      },
      "cell_type": "markdown",
      "source": [
        "###  3. Data representation and parameters\n",
        "Assuming there are $m$ training samples, the pair $(x^{(i)}, \\hat{y}^{(i)})$ denote the $i^{th}$ training sample. Each training sample consists of $n$ features denoted by $x^{(i)}$ and the correponding class label $\\hat{y}^{(i)}$. For this dataset, we use two features, hence $n=2$. For each training sample, the features $x^{(i)}$ can be thought of as an $n\\times1$ column vector. \n",
        "\n",
        "For vectorized operations, we arrange the column vectors corresponding to all the features of the training samples in the form of a $n \\times m$ matrix $X$ and the ground truth class labels as a $1 \\times m$ row vector $\\hat{y}$. These are same as the conventions we followed in the logistic regression assignment.\n",
        "\n",
        "For this exercise, we will create a simple neural network having only one hidden layer with five neurons as shown below. The input layer has two nodes since the number of features we use is $n=2$. The output layer has a single neuron since this neural network is used for binary classification. Let $n_x$, $n_h$, and $n_y$ denote the number of nodes in the input layer, the hidden layer, and the output layer respectively. In this exercise, $n_x = 2$, $n_h = 5$ and $n_y = 1$.\n",
        "<img src=\"https://github.com/AKSHAYA8219/ai-ml-assignments/blob/master/SimpleNeuralNetwork/nn.png?raw=1\" style=\"width:600px;height:300px;\">\n",
        "\n",
        "Each edge of the neural network has an associated weight. The weights corresponding to the edges between the input layer and the hidden layer can be represented as a $n_h \\times n_x$ matrix $W_1$. Similarly, a $n_y \\times n_h$ matrix $W_2$ represents the weights corresponding to the edges between the hidden layer and the output layer. The bias parameters for the nodes of the hidden layer and output layer are denoted by $b_1$ and $b_2$ respectively.\n",
        "\n",
        "### 4. Create Weight and Bias variables\n",
        "Use the cell below to create the weight parameters $W_1$ and $W_2$ and initialise them with small random values. Similarly create bias parameters $b_1$ and $b_2$ and initialise them with zeros.\n"
      ]
    },
    {
      "metadata": {
        "colab_type": "code",
        "id": "RHCCPRM96nc5",
        "colab": {}
      },
      "cell_type": "code",
      "source": [
        "def create_params(n_x, n_h, n_y):\n",
        "    # Create the weight and bias parameters\n",
        "    \n",
        "    #Arguments\n",
        "    #    n_x : size of the input layer\n",
        "    #    n_h : size of the hidden layer\n",
        "    #    n_y : size of the output layer\n",
        "    \n",
        "    # Return values\n",
        "    #    parameter dictionary that contains the randomly generated weights and parameters\n",
        "    \n",
        "    \n",
        "    # Set a seed for the random number generator to reproduce the results\n",
        "    np.random.seed(2)\n",
        "    \n",
        "    # The parameters will be stored in a python dictionary for convenience.\n",
        "    # Initialize the dictionary\n",
        "    param_dict = {}\n",
        "    \n",
        "    # Create a small set of random values as the weight and bias parameters\n",
        "    param_dict['W1'] = np.random.randn(n_h, n_x) * 0.01\n",
        "    param_dict['b1'] = np.zeros((n_h,1))\n",
        "    param_dict['W2'] = np.random.randn(n_y, n_h) * 0.01\n",
        "    param_dict['b2'] = np.zeros((n_y,1))\n",
        "    \n",
        "    return param_dict"
      ],
      "execution_count": 0,
      "outputs": []
    },
    {
      "metadata": {
        "colab_type": "code",
        "id": "mtT7cPNV8nWi",
        "colab": {}
      },
      "cell_type": "code",
      "source": [
        "param_dict = create_params(2,5,1)\n"
      ],
      "execution_count": 0,
      "outputs": []
    },
    {
      "metadata": {
        "id": "a1OFbwmpdmlO",
        "colab_type": "text"
      },
      "cell_type": "markdown",
      "source": [
        "### 5. Implement forward propagation\n",
        "Using the parameters $W_1$, $W_2$, $b_1$, and $b_2$, you have to implement the forward propgation and calculate the values for:<br/>\n",
        "$Z^{[1]} = W_1 \\cdot X + b_1$<br/>\n",
        "$A^{[1]} = tanh(Z^{[1]})$<br/>\n",
        "$Z^{[2]} = W_2 \\cdot A^{[1]} + b_2$<br/>\n",
        "$A^{[2]} = sigmoid(Z^{[2]})$ <br/>\n",
        "$L = -\\frac{1}{m} (\\hat Y log (A^{[2]}) + (1-\\hat Y)log(1-A^{[2]}))$\n"
      ]
    },
    {
      "metadata": {
        "colab_type": "code",
        "id": "vzfrt7LI1sFi",
        "colab": {}
      },
      "cell_type": "code",
      "source": [
        "def forward_propagate(X,yhat, param_dict):\n",
        "    # Implement forward propagation using the equations above without using any loops\n",
        "    \n",
        "    # Arguments:\n",
        "    #    X             : n features of m training samples represented as an nxm matrix\n",
        "    #    yhat          : the groundtruth values for the m training samples represented as an 1xm matrix\n",
        "    #    param_dict    : the parameter dictionary containing the weights and biases\n",
        "    #\n",
        "    # Return values:\n",
        "    #    loss          : the loss L calculated according to the formula above\n",
        "    #    cached_data   : dictionary storing the values of Z[1], A[1], Z[2], and A[2] calculated according \n",
        "    #                    to the formula above\n",
        "    #    \n",
        "    \n",
        "    \n",
        "    # We need the values of  Z[1], A[1], Z[2], and A[2] calculated during the forward pass later for the backward\n",
        "    # pass. Create a dictionary cached_data for storing the values.\n",
        "    cached_data = {}\n",
        "    \n",
        "    \n",
        "    # Calculate the values of Z[1], A[1], Z[2], and A[2] according to the formula above using vectorized operation\n",
        "    cached_data['Z1']  = np.dot(param_dict['W1'],X)+param_dict['b1']\n",
        "    cached_data['A1']  = np.tanh(cached_data['Z1'])\n",
        "    cached_data['Z2']  = np.dot(param_dict['W2'],cached_data['A1'])+param_dict['b2']\n",
        "    cached_data['A2']  = sigmoid(cached_data['Z2'])\n",
        "    \n",
        "    # Compute the loss using the formula above\n",
        "    loss = -1*(np.sum(((yhat*np.log(cached_data['A2']))+(1-yhat)*np.log(1-cached_data['A2'])))/X.shape[1])\n",
        "    \n",
        "    return loss, cached_data"
      ],
      "execution_count": 0,
      "outputs": []
    },
    {
      "metadata": {
        "id": "B7u5Xo95dmlX",
        "colab_type": "text"
      },
      "cell_type": "markdown",
      "source": [
        "**Let us test if the forward propagation is implemented correctly**\n",
        "\n",
        "We will use a few samples from the training set and check if the forward propagation calculates the correct values. Verify that the activation and loss values computed by the forward propagation you implemented matches the expected values below."
      ]
    },
    {
      "metadata": {
        "id": "3HNxjOUydmlZ",
        "colab_type": "code",
        "colab": {
          "base_uri": "https://localhost:8080/",
          "height": 194
        },
        "outputId": "16e647c6-c8f5-487e-8207-f1cfd0ba1eab"
      },
      "cell_type": "code",
      "source": [
        "# Choose three samples of the training data for verification\n",
        "# Do not change these samples since the expected values are calculated for these samples.\n",
        "X = X_train[:,:3]\n",
        "yhat = yhat_train[:,:3]\n",
        "\n",
        "loss, cached_data = forward_propagate(X,yhat, param_dict)\n",
        "print (\"Actiavtion 1:\")\n",
        "print (cached_data['A1'])\n",
        "print (\"Activation 2:\")\n",
        "print (cached_data['A2'])\n",
        "print \"Loss:\"\n",
        "print loss\n"
      ],
      "execution_count": 9,
      "outputs": [
        {
          "output_type": "stream",
          "text": [
            "Actiavtion 1:\n",
            "[[-0.00080023 -0.0032566   0.00072534]\n",
            " [-0.00043771 -0.02647377  0.01068074]\n",
            " [-0.00458275 -0.0109709   0.00095653]\n",
            " [-0.00152916  0.01059315 -0.00561624]\n",
            " [-0.00348696 -0.00437891 -0.00092487]]\n",
            "Activation 2:\n",
            "[[0.49999549 0.49980716 0.50007676]]\n",
            "Loss:\n",
            "0.6932215933428393\n"
          ],
          "name": "stdout"
        }
      ]
    },
    {
      "metadata": {
        "id": "sPzlo1rkdmlm",
        "colab_type": "text"
      },
      "cell_type": "markdown",
      "source": [
        "<table border=\"1\" class=\"dataframe\"> <thead>    <tr style=\"text-align: right;\"> <th>Expected output:</th></tr></thead> <tbody>\n",
        "<tr style=\"text-align: left;\"><td>Activation 1:<br/></td></tr>\n",
        "<tr style=\"text-align: left;\"><td>\n",
        "[[-0.00080023 -0.0032566   0.00072534]<br/>\n",
        "[-0.00043771 -0.02647377  0.01068074]<br/>\n",
        "[-0.00458275 -0.0109709   0.00095653]<br/>\n",
        "[-0.00152916  0.01059315 -0.00561624]<br/>\n",
        "[-0.00348696 -0.00437891 -0.00092487]]<br/>\n",
        "<td/></tr>\n",
        "<tr style=\"text-align: left;\"><td>Activation 2:<br/></td></tr>\n",
        "<tr style=\"text-align: left;\"><td>\n",
        "[[ 0.49999549  0.49980716  0.50007676]]\n",
        "<td/></tr>\n",
        "<tr style=\"text-align: left;\"><td>Loss:<br/></td></tr>\n",
        "<tr style=\"text-align: left;\"><td>0.693221593345<br/></td></tr>\n",
        "</tbody>  </table>"
      ]
    },
    {
      "metadata": {
        "id": "Li--uryydmlo",
        "colab_type": "text"
      },
      "cell_type": "markdown",
      "source": [
        "### 6. Implement backward propagation\n",
        "Now comes the more difficult backward propagation where you have to compute the derivative with respect to the loss function. You need to implement the following in a vectorised manner:\n",
        "\n",
        "$dZ^{[2]}  = A^{[2]} - \\hat Y$<br/>\n",
        "$dW^{[2]}  = \\frac{1}{m} dZ^{[2]} \\cdot {A^{[1]}}^{T}$<br/>\n",
        "$db^{[2]}  = \\frac{1}{m} \\sum dZ^{[2]}$<br/>\n",
        "$dZ^{[1]}  = (W_2^T \\cdot dZ^{[2]}) * ( 1 - {A^{[1]}}^2)$<br/>\n",
        "$dW^{[1]}  = \\frac{1}{m} dZ^{[1]} \\cdot  X^T$<br/>\n",
        "$db^{[1]}  = \\frac{1}{m} \\sum dZ^{[1]}$<br/>\n"
      ]
    },
    {
      "metadata": {
        "colab_type": "code",
        "id": "1P8XNQqP6slC",
        "colab": {}
      },
      "cell_type": "code",
      "source": [
        "def backward_propagate(X,yhat, param_dict, cached_data):\n",
        "    # Implement backward propagation using the equations above without using any loops\n",
        "    \n",
        "    # Arguments:\n",
        "    #    X    : n features of m training samples represented as an nxm matrix\n",
        "    #    yhat : the groundtruth values for the m training samples represented as an 1xm matrix\n",
        "    #    param_dict    : the parameter dictionary containing the weights and biases\n",
        "    #\n",
        "    # Return values:\n",
        "    #    dW1, db1, dW2, db2   : derivative of loss with respect to the weights and biases\n",
        "    \n",
        "    # Determine the number of trainining samples m from the shape of X\n",
        "    m = X.shape[1] \n",
        "    \n",
        "    # Calculate the following using the equations above without using any loops: \n",
        "    #    dZ2 = dL/dZ2, \n",
        "    #    dW2 = dL/dW2,\n",
        "    #    db2 = dL/db2\n",
        "    #    dZ1 = dL/dZ1\n",
        "    #    dW1 = dL/dW1\n",
        "    #    db1 = dL/db1\n",
        "    \n",
        "    dZ2 = cached_data['A2']-yhat\n",
        "    dW2 = (np.dot(dZ2,cached_data['A1'].T))/m\n",
        "    db2 = np.sum(dZ2,axis=1,keepdims=True)/m\n",
        "    dZ1 = np.multiply(np.dot(param_dict['W2'].T,dZ2),1-np.square(cached_data['A1']))\n",
        "    dW1 = np.dot(dZ1,X.T)/m\n",
        "    db1 = np.sum(dZ1,axis=1,keepdims=True)/m\n",
        "    return dW1, db1, dW2, db2\n"
      ],
      "execution_count": 0,
      "outputs": []
    },
    {
      "metadata": {
        "id": "gKRoEzKXdmlw",
        "colab_type": "text"
      },
      "cell_type": "markdown",
      "source": [
        "**Let us test if the backward propagation is implemented correctly**\n",
        "\n",
        "Verify that the values computed by the backward propagation you implemented matches the expected values below."
      ]
    },
    {
      "metadata": {
        "scrolled": true,
        "id": "bfEVDjKOdmly",
        "colab_type": "code",
        "colab": {
          "base_uri": "https://localhost:8080/",
          "height": 301
        },
        "outputId": "fa8fcf66-d3a3-4eab-92a1-ecfee4e65ad4"
      },
      "cell_type": "code",
      "source": [
        "dW1, db1, dW2, db2 = backward_propagate(X,yhat, param_dict, cached_data)\n",
        "\n",
        "# assertions on size of dws and dbs\n",
        "print \"dW1:\"\n",
        "print(dW1)\n",
        "print \"db1:\"\n",
        "print(db1)\n",
        "\n",
        "print \"dW2:\"\n",
        "print(dW2)\n",
        "print \"db2:\"\n",
        "print(db2)"
      ],
      "execution_count": 12,
      "outputs": [
        {
          "output_type": "stream",
          "text": [
            "dW1:\n",
            "[[-4.23821268e-04  3.09413239e-04]\n",
            " [-1.75953592e-03  1.28494443e-03]\n",
            " [-3.19189753e-05  2.33030634e-05]\n",
            " [ 8.59036588e-04 -6.27176659e-04]\n",
            " [-4.14289747e-04  3.02452402e-04]]\n",
            "db1:\n",
            "[[-9.19302116e-04]\n",
            " [-3.81815459e-03]\n",
            " [-6.92420754e-05]\n",
            " [ 1.86339492e-03]\n",
            " [-8.98640161e-04]]\n",
            "dW2:\n",
            "[[ 0.00028873  0.00256119  0.00090601 -0.00108517  0.00030307]]\n",
            "db2:\n",
            "[[-0.16670687]]\n"
          ],
          "name": "stdout"
        }
      ]
    },
    {
      "metadata": {
        "id": "8MwBSrBedml4",
        "colab_type": "text"
      },
      "cell_type": "markdown",
      "source": [
        "<table border=\"1\" class=\"dataframe\"> <thead>    <tr style=\"text-align: right;\"> <th>Expected output:</th></tr></thead> <tbody>\n",
        "<tr style=\"text-align: left;\"><td>dW1:<br/></td></tr>\n",
        "<tr style=\"text-align: left;\"><td>\n",
        "[[ -4.23821293e-04   3.09413235e-04]<br/>\n",
        " [ -1.75953603e-03   1.28494442e-03]<br/>\n",
        " [ -3.19189772e-05   2.33030631e-05]<br/>\n",
        " [  8.59036640e-04  -6.27176650e-04]<br/>\n",
        " [ -4.14289772e-04   3.02452398e-04]]<br/>\n",
        "<td/></tr>\n",
        "<tr style=\"text-align: left;\"><td>db1:<br/></td></tr>\n",
        "<tr style=\"text-align: left;\"><td>\n",
        "[[ -9.19302116e-04]<br/>\n",
        " [ -3.81815459e-03]<br/>\n",
        " [ -6.92420754e-05]<br/>\n",
        " [  1.86339492e-03]<br/>\n",
        " [ -8.98640161e-04]]<br/>\n",
        "<td/></tr>\n",
        "<tr style=\"text-align: left;\"><td>dW2:<br/></td></tr>\n",
        "<tr style=\"text-align: left;\"><td>\n",
        "[[ 0.00028873  0.00256119  0.00090601 -0.00108517  0.00030307]]<br/>\n",
        "<td/></tr>\n",
        "<tr style=\"text-align: left;\"><td>db2:<br/></td></tr>\n",
        "<tr style=\"text-align: left;\"><td>[[-0.16670687]]<br/></td></tr>\n",
        "</tbody>  </table>\n"
      ]
    },
    {
      "metadata": {
        "id": "baHMMAgjdml6",
        "colab_type": "text"
      },
      "cell_type": "markdown",
      "source": [
        "### 7. Training the network\n",
        "With the forward and backward propagation implemented, we can now implement the fit function to train the network and  determine the values for the parameters. This is done using gradient descent rule: \n",
        "$ \\theta = \\theta - \\alpha \\cdot \\frac{\\partial L}{\\partial \\theta} $\n",
        "where $\\theta$ is a parameter that needs to be updated, $\\frac{\\partial L}{\\partial \\theta}$ is the gradient of  loss function $L$ with respect to $\\theta$ and $\\alpha$ is the learning rate."
      ]
    },
    {
      "metadata": {
        "colab_type": "code",
        "id": "qREtIE6Z6zuF",
        "colab": {}
      },
      "cell_type": "code",
      "source": [
        "def fit(X,yhat, lr = 0.5, numiter = 10000, display_loss = False):\n",
        "    # Implement the fit fuction that determines optimal values for the parameters w and b using gradient descent.\n",
        "    \n",
        "    # Arguments:\n",
        "    #    X            : n features of m training samples represented as an nxm matrix\n",
        "    #    yhat         : the groundtruth values for the m training samples represented as an 1xm matrix\n",
        "    #    lr           : learning rate for the gradient descent\n",
        "    #    numiter      : number of iterations for running the gradient descent \n",
        "    #    display_loss : whether to display loss\n",
        "    #\n",
        "    # Return values:\n",
        "    #    param_dict   : the weights and biases determined by the gradient descent\n",
        "    \n",
        "    # Determine the size of the input layer from the shape of X    \n",
        "    n_x = X.shape[0]\n",
        "    \n",
        "    # Create param_dict for storing the weights and biases which are initialized with random values\n",
        "    param_dict = create_params(n_x,5,1)\n",
        "    \n",
        "    # Iterate for numiter steps. This is the only place where you should be using a for loop.\n",
        "    for i in range(numiter):\n",
        "        # Calculate the values in cached_data and the loss using forward propagation\n",
        "        loss, cached_data = forward_propagate(X,yhat, param_dict)\n",
        "        \n",
        "        # Calculate the derivates using backward propagation\n",
        "        dw1,db1, dw2, db2 = backward_propagate(X,yhat, param_dict, cached_data)\n",
        "        \n",
        "        # Update the parameters by moving a small step (lr) in the opposite direction of the gradient\n",
        "        param_dict['W1'] -= (lr*dw1)\n",
        "        param_dict['b1'] -= (lr*db1)\n",
        "        param_dict['W2'] -= (lr*dw2)\n",
        "        param_dict['b2'] -= (lr*db2)\n",
        "        \n",
        "        if i % 1000 == 0 and display_loss == True:\n",
        "            print(loss)\n",
        "    return param_dict\n",
        "        "
      ],
      "execution_count": 0,
      "outputs": []
    },
    {
      "metadata": {
        "id": "oqNd0KdCdmmC",
        "colab_type": "text"
      },
      "cell_type": "markdown",
      "source": [
        "**Let us train the model with the training data**"
      ]
    },
    {
      "metadata": {
        "scrolled": true,
        "id": "apcviUiAdmmE",
        "colab_type": "code",
        "colab": {
          "base_uri": "https://localhost:8080/",
          "height": 194
        },
        "outputId": "5275a235-15ab-437d-e5ac-9a9fb1366458"
      },
      "cell_type": "code",
      "source": [
        "param_dict = fit(X_train,yhat_train, lr = 0.5, numiter = 10000, display_loss = True)"
      ],
      "execution_count": 14,
      "outputs": [
        {
          "output_type": "stream",
          "text": [
            "0.693091379275182\n",
            "0.06948917473099187\n",
            "0.03605629147112828\n",
            "0.027851726546937895\n",
            "0.023603615385479376\n",
            "0.020858356708582985\n",
            "0.01888267527050469\n",
            "0.01736842090633206\n",
            "0.01615821692527744\n",
            "0.015161194901973114\n"
          ],
          "name": "stdout"
        }
      ]
    },
    {
      "metadata": {
        "id": "C8i45gbSdmmK",
        "colab_type": "text"
      },
      "cell_type": "markdown",
      "source": [
        "<table border=\"1\" class=\"dataframe\"> <thead>    <tr style=\"text-align: right;\"> <th>Expected output:</th></tr></thead> <tbody>\n",
        "\n",
        "<tr style=\"text-align: left;\"><td>\n",
        "0.693091379275<br/>\n",
        "0.0694891717794<br/>\n",
        "0.0360562903116<br/>\n",
        "0.0278517255979<br/>\n",
        "0.0236036145033<br/>\n",
        "0.0208583558305<br/>\n",
        "0.018882674365<br/>\n",
        "0.017368419956<br/>\n",
        "0.0161582159196<br/>\n",
        "0.0151611938343<br/>\n",
        "<td/></tr>\n",
        "</tbody></table>"
      ]
    },
    {
      "metadata": {
        "id": "-e-YA6UIdmmN",
        "colab_type": "text"
      },
      "cell_type": "markdown",
      "source": [
        "**Experiment with the learning rate**\n",
        "\n",
        "With lr = 0.5 you can see that the value of loss is drecreasing. \n",
        "To make the model learn faster, you can change the alpha, i.e., the learning rate, to a higher value (try what happens with alpha = 2), but if the learning rate is too high the loss may not converge (try what happens with alpha = 25). Experiment with the learning rate, observe the effect it has on the loss, and understand why it is happening."
      ]
    },
    {
      "metadata": {
        "id": "yLW_tqLBdmmT",
        "colab_type": "text"
      },
      "cell_type": "markdown",
      "source": [
        "### 8. Evaluate model \n",
        "Now that we have trained the model, let us evaluate the model on the test set. You need to implement the predict function which will take a set of inputs and the learnt parameters and return the predicted class (0 or 1) for each input. Refer the equiations in Section 5."
      ]
    },
    {
      "metadata": {
        "id": "livusrUOdmmX",
        "colab_type": "code",
        "colab": {}
      },
      "cell_type": "code",
      "source": [
        "def predict(X,param_dict):\n",
        "    # Implement the function to predict the output for a new input using the learned parameters.\n",
        "    \n",
        "    # Arguments:\n",
        "    #    X          : n features of m training samples represented as an nxm matrix\n",
        "    #    param_dict : dictionary that stores the weights and biases determined by the training\n",
        "    #\n",
        "    # Return values:\n",
        "    #    pred : prediction for each test sample\n",
        "    \n",
        "    \n",
        "    # Determine the activation for each input test sample from the hidden layer. Refer the equations\n",
        "    # in Section 5.\n",
        "    z1 = np.dot(param_dict['W1'],X)+param_dict['b1']\n",
        "    a1 = np.tanh(z1)\n",
        "    \n",
        "    # Determine the activation for each input test sample from the hidden layer. Refer the equations\n",
        "    # in Section 5.\n",
        "    z2 = np.dot(param_dict['W2'],a1)+param_dict['b2']\n",
        "    a2 = sigmoid(z2)\n",
        "    \n",
        "    # Since we are using a binary classifer, the output has to be either a 0 or a 1, so you need\n",
        "    # to convert the final activation to a 0 or a 1 and return it as the prediction.\n",
        "    pred = np.where(a2>0.5,1.0,0.0)\n",
        "    return pred"
      ],
      "execution_count": 0,
      "outputs": []
    },
    {
      "metadata": {
        "id": "WwjeetLtdmme",
        "colab_type": "text"
      },
      "cell_type": "markdown",
      "source": [
        "**Testing**\n",
        "\n",
        "Let us check that the predict function works as expected"
      ]
    },
    {
      "metadata": {
        "id": "zJH5Nb10dmmg",
        "colab_type": "code",
        "colab": {
          "base_uri": "https://localhost:8080/",
          "height": 34
        },
        "outputId": "2c7db20e-4424-4d53-fd68-528021262ae1"
      },
      "cell_type": "code",
      "source": [
        "print predict(X,param_dict)\n"
      ],
      "execution_count": 16,
      "outputs": [
        {
          "output_type": "stream",
          "text": [
            "[[0. 1. 1.]]\n"
          ],
          "name": "stdout"
        }
      ]
    },
    {
      "metadata": {
        "id": "CmmQNDX4dmmu",
        "colab_type": "text"
      },
      "cell_type": "markdown",
      "source": [
        "<table border=\"1\" class=\"dataframe\"> <thead>    <tr style=\"text-align: right;\"> <th>Expected output:</th></tr></thead> <tbody>\n",
        "\n",
        "<tr style=\"text-align: left;\"><td>\n",
        "[[ 0.  1.  1.]]\n",
        "<td/></tr>\n",
        "</tbody></table>"
      ]
    },
    {
      "metadata": {
        "id": "M4dKs2c7dmmy",
        "colab_type": "text"
      },
      "cell_type": "markdown",
      "source": [
        "**Evaluation on the test set**\n",
        "\n",
        "Let us evaluate the accuracy of the trained model on the test set $\\texttt{X_test}$. Determine the accuracy by comparing with the groundtruth $\\texttt{yhat_test}$ without using for loops."
      ]
    },
    {
      "metadata": {
        "id": "hzVli-sgdmm1",
        "colab_type": "code",
        "colab": {
          "base_uri": "https://localhost:8080/",
          "height": 34
        },
        "outputId": "fa9eab02-17de-49c0-f7ae-3bc225f76c3a"
      },
      "cell_type": "code",
      "source": [
        "# evaluate test set accuracy\n",
        "predicted = predict(X_test,param_dict)\n",
        "accuracy = np.mean(predicted == yhat_test)\n",
        "print ('training accuracy: %.2f' % (accuracy))"
      ],
      "execution_count": 17,
      "outputs": [
        {
          "output_type": "stream",
          "text": [
            "training accuracy: 0.95\n"
          ],
          "name": "stdout"
        }
      ]
    },
    {
      "metadata": {
        "id": "E0oj0urndmm7",
        "colab_type": "text"
      },
      "cell_type": "markdown",
      "source": [
        "<table border=\"1\" class=\"dataframe\"> <thead>    <tr style=\"text-align: right;\"> <th>Expected output:</th></tr></thead> <tbody>\n",
        "\n",
        "<tr style=\"text-align: left;\"><td>\n",
        "training accuracy: 0.95\n",
        "<td/></tr>\n",
        "</tbody></table>\n",
        "\n"
      ]
    },
    {
      "metadata": {
        "id": "x9pVrSCldmm_",
        "colab_type": "text"
      },
      "cell_type": "markdown",
      "source": [
        "### Plot the decision plane learned by the model\n",
        "Let us visualize the classifier learned by the neural network. "
      ]
    },
    {
      "metadata": {
        "id": "b-L-naisdmnB",
        "colab_type": "code",
        "colab": {
          "base_uri": "https://localhost:8080/",
          "height": 362
        },
        "outputId": "4551d804-ea70-4c78-de8d-ed4764d31e47"
      },
      "cell_type": "code",
      "source": [
        "utils.vis_classifier_nn(X_test,yhat_test,param_dict,predict)"
      ],
      "execution_count": 18,
      "outputs": [
        {
          "output_type": "display_data",
          "data": {
            "image/png": "[encoded data removed]",
            "text/plain": [
              "<Figure size 576x396 with 1 Axes>"
            ]
          },
          "metadata": {
            "tags": []
          }
        }
      ]
    }
  ]
}