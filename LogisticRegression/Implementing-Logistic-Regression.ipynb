{
 "cells": [
  {
   "cell_type": "markdown",
   "metadata": {},
   "source": [
    "# Implementing Logistic Regression\n",
    "\n",
    "In this assignment you will learn to implement logistic regression and apply it on a toy dataset. Logistic regression is a popular machine learning technique used for binary classification. In a binary classification problem, each input belongs to one of two classes, say 0 or 1, and the goal is to predict the correct class of each input. \n",
    "\n",
    "While logistic regression is a standard machine learning algorithm used for binary classification, it can also be thought of as a simple neural network. Hence, we chose logistic regression for this exercise since it will help you understand some of the basic principles of machine learning and neural networks.\n",
    "\n",
    "#### Instructions\n",
    "-  Do not use any additional libraries other than what is already specified below\n",
    "-  Do not use loops in your code\n"
   ]
  },
  {
   "cell_type": "markdown",
   "metadata": {},
   "source": [
    "### 1. Import Libraries\n",
    "For this assignment we will import the following libraries:"
   ]
  },
  {
   "cell_type": "code",
   "execution_count": 1,
   "metadata": {
    "collapsed": true
   },
   "outputs": [],
   "source": [
    "import numpy as np\n",
    "import pandas as pd\n",
    "import matplotlib.pyplot as plt"
   ]
  },
  {
   "cell_type": "markdown",
   "metadata": {},
   "source": [
    "### 2. Sigmoid\n",
    "Let us start this assignment by implementing the sigmoid function."
   ]
  },
  {
   "cell_type": "code",
   "execution_count": 2,
   "metadata": {
    "collapsed": true
   },
   "outputs": [],
   "source": [
    "def sigmoid(z):\n",
    "    \n",
    "    # You need to apply the sigmoid function on each element of z and return the values\n",
    "\n",
    "    # Implement the sigmoid function below\n",
    "    \n",
    "    s = 1.0/(1+np.exp(-z))\n",
    "    return s"
   ]
  },
  {
   "cell_type": "markdown",
   "metadata": {},
   "source": [
    "**Let us test if the sigmoid function is implemented correctly**\n",
    "\n",
    "Check that for input values 10,  -5,   0,   5,  and 10 you get the expected output as given in the table below\n"
   ]
  },
  {
   "cell_type": "code",
   "execution_count": 3,
   "metadata": {},
   "outputs": [
    {
     "name": "stdout",
     "output_type": "stream",
     "text": [
      "Input:  [-10  -5   0   5  10]\n",
      "Expected output:  [  4.53978687e-05   6.69285092e-03   5.00000000e-01   9.93307149e-01\n",
      "   9.99954602e-01]\n"
     ]
    }
   ],
   "source": [
    "z = np.arange(-10,11,5)\n",
    "sig = sigmoid(z)\n",
    "print \"Input: \",z\n",
    "print \"Expected output: \",sig"
   ]
  },
  {
   "cell_type": "markdown",
   "metadata": {},
   "source": [
    "<table border=\"1\" class=\"dataframe\">  <thead>    <tr style=\"text-align: right;\">      <th>Input</th>      <th>Expected output</th>    </tr>  </thead>  <tbody>    <tr>      <td>-10.0</td>      <td>0.000045</td>    </tr>    <tr>      <td>-5.0</td>      <td>0.006693</td>    </tr>    <tr>      <td>0.0</td>      <td>0.500000</td>    </tr>    <tr>      <td>5.0</td>      <td>0.993307</td>    </tr>    <tr>      <td>10.0</td>      <td>0.999955</td>    </tr>  </tbody></table> "
   ]
  },
  {
   "cell_type": "markdown",
   "metadata": {},
   "source": [
    "**Let us also visualize the sigmoid function**\n",
    "\n",
    "<img src=\"sigmoid.jpg\" align=\"left\" alt=\"Expected plot of sigmoid function\" title=\"Expected plot of sigmoid function\" />\n",
    "<p style=\"clear:left\">\n",
    "The sigmoid function you plot should look like the above figure.\n",
    "Run the cell below to visualize the sigmoid function you have implemented.\n",
    "</p>"
   ]
  },
  {
   "cell_type": "code",
   "execution_count": 7,
   "metadata": {},
   "outputs": [
    {
     "data": {
      "image/png": "[encoded data removed]",
      "text/plain": [
       "<matplotlib.figure.Figure at 0x7f19fda21790>"
      ]
     },
     "metadata": {},
     "output_type": "display_data"
    }
   ],
   "source": [
    "z = np.arange(-10., 11., 1)\n",
    "sig = sigmoid(z)\n",
    "plt.plot(z,sig)\n",
    "plt.plot(z,sig,'bo')\n",
    "plt.show()"
   ]
  },
  {
   "cell_type": "markdown",
   "metadata": {},
   "source": [
    "### 3. Data Representation and Parameters\n",
    "Assuming there are $m$ training samples, the pair $(x^{(i)}, \\hat{y}^{(i)})$ denote the $i^{th}$ training sample. Each training sample consists of $n$ features denoted by $x^{(i)}$ and the correponding class label $\\hat{y}^{(i)}$. For each training sample, the features $x^{(i)}$ can be thought of as an $n\\times1$ column vector. When we use $n$ features for representing an input, the number of parameters in logistic regression becomes $n+1$ where the first $n$ parameters are the weights $w$ and the last parameter is the bias term $b$. The optimal values for these parameters are determined during the training phase which consists of forward propagation and back propagation such that the parameters maximize the accuracy of predicting the values of $\\hat{y}^{(i)}$.\n",
    "\n",
    "For vectorized operations, we arrange the column vectors corresponding to all the features of the training samples in the form of a $n \\times m$ matrix $X$, the ground truth class labels as a $1 \\times m$ row vector $\\hat{y}$, and the weight parameters $w$ as a $n \\times 1$ column vector. Here is an example of three training samples each containing two features with class labels 0, 1, 0 respectively.\n",
    "$\n",
    "\\begin{align*}\n",
    "    x^{(1)} &= \\begin{bmatrix}\n",
    "           1 \\\\\n",
    "           2 \\\\\n",
    "         \\end{bmatrix};\n",
    "         &\n",
    "    x^{(2)} &= \\begin{bmatrix}\n",
    "           3 \\\\\n",
    "           4 \\\\\n",
    "         \\end{bmatrix};\n",
    "         &\n",
    "     x^{(3)} &= \\begin{bmatrix}\n",
    "       5 \\\\\n",
    "       6 \\\\\n",
    "     \\end{bmatrix}.\n",
    "     &\n",
    "     \\textrm{Then,}\\;\n",
    "     X &= \\begin{bmatrix}\n",
    "           1\\;3\\;5 \\\\\n",
    "           2\\;4\\;6\\\\\n",
    "         \\end{bmatrix},\n",
    "     &\n",
    "     \\hat y &= \\begin{bmatrix}\n",
    "           0\\;1\\;0\n",
    "         \\end{bmatrix}.\n",
    "\\end{align*}\n",
    "$\n",
    "\n",
    "And the parameters to be estimated are the weights\n",
    "$\n",
    "\\begin{align*}\n",
    "     w &= \\begin{bmatrix}\n",
    "           w_1\\\\\n",
    "           w_2\\\\\n",
    "         \\end{bmatrix}, \n",
    "\\end{align*}\n",
    "$\n",
    "and the bias $b$.\n",
    "\n",
    "\n",
    " \n",
    "Use the cell below to create the parameters $w$ and $b$ and initialize them with zeros.\n"
   ]
  },
  {
   "cell_type": "code",
   "execution_count": 8,
   "metadata": {
    "collapsed": true
   },
   "outputs": [],
   "source": [
    "def create_params(n):\n",
    "    # Create the parameter w with the correct dimension and initialise it with zeros using np.zeros\n",
    "    w = np.zeros((n,1))\n",
    "    b = 0.0\n",
    "    return w,b"
   ]
  },
  {
   "cell_type": "code",
   "execution_count": 9,
   "metadata": {},
   "outputs": [
    {
     "name": "stdout",
     "output_type": "stream",
     "text": [
      "[[ 0.]\n",
      " [ 0.]]\n",
      "0.0\n"
     ]
    }
   ],
   "source": [
    "w,b = create_params(2)\n",
    "\n",
    "print w\n",
    "print b"
   ]
  },
  {
   "cell_type": "markdown",
   "metadata": {},
   "source": [
    "<table border=\"1\" class=\"dataframe\"> <thead>    <tr style=\"text-align: right;\"> <th>Expected output:</th></tr></thead> <tbody><tr style=\"text-align: left;\"><td>[ [ 0. ]<br/> [ 0. ] ]<br/> 0.0  </td> </tr></tbody>  </table>"
   ]
  },
  {
   "cell_type": "markdown",
   "metadata": {},
   "source": [
    "To test the rest of the code let us assign some values for our data and parameters in the cell below."
   ]
  },
  {
   "cell_type": "code",
   "execution_count": 11,
   "metadata": {
    "collapsed": true
   },
   "outputs": [],
   "source": [
    "w, b, X, yhat = np.array([[1], [2]]), 2, np.array([[1,2], [3,4]]), np.array([[1, 0]])"
   ]
  },
  {
   "cell_type": "markdown",
   "metadata": {},
   "source": [
    "### 4. Forward and Backward Propagation\n",
    "\n",
    "To train our simple neural network i.e., to estimate the parameters, we need to do forward and backward propagation. \n",
    "\n",
    "During forward propagation, you need to compute:\n",
    "1. The neuron activation for the $i^{th}$ sample: $a^{(i)} = sigmoid( \\sum_{j=1}^{n} w_jx^{(i)}_j + b) $.\n",
    "2. The loss function which indicates how good the current value of the parameters are:  \n",
    "$L = -\\frac{1}{m}\\sum_{i=1}^{m}\\hat y^{(i)}\\log(a^{(i)})+(1-\\hat y^{(i)})\\log(1-a^{(i)})$.\n",
    "\n",
    "During backward propagation, you need to compute:\n",
    "1. The gradient of the loss function with respect to each of the weight parameter w$_j$: $ dw_j = \\frac{\\partial L}{\\partial w_j} = \\frac{1}{m}\\sum_{i=1}^{m}x_j^{(i)} (a^{(i)}-\\hat y^{(i)})$\n",
    "2. The gradient of the loss function with respect to the bias b: $ db = \\frac{\\partial L}{\\partial b} = \\frac{1}{m} \\sum_{i=1}^m (a^{(i)}-\\hat y^{(i)})$\n",
    "\n",
    "You need to implement the forward and backward propagation in the cells below. You should not use any loops but instead use vectorized operations."
   ]
  },
  {
   "cell_type": "code",
   "execution_count": 13,
   "metadata": {
    "collapsed": true
   },
   "outputs": [],
   "source": [
    "def forward_propagate(X,yhat,w,b):\n",
    "    a = sigmoid(np.dot(w.T,X)+b\n",
    "    loss = -np.mean(yhat*np.log(a) + (1.0-yhat)*np.log(1.0-a))\n",
    "    return a,loss"
   ]
  },
  {
   "cell_type": "markdown",
   "metadata": {},
   "source": [
    "**Let us test if the forward propagation is implemented correctly**"
   ]
  },
  {
   "cell_type": "code",
   "execution_count": 16,
   "metadata": {},
   "outputs": [
    {
     "name": "stdout",
     "output_type": "stream",
     "text": [
      "[[ 0.99987661  0.99999386]]\n",
      "-6.00006477319\n"
     ]
    }
   ],
   "source": [
    "activation,loss = forward_propagate(X,yhat,w,b)\n",
    "print activation\n",
    "print loss"
   ]
  },
  {
   "cell_type": "markdown",
   "metadata": {},
   "source": [
    "<table border=\"1\" class=\"dataframe\"> <thead>    <tr style=\"text-align: right;\"> <th>Expected output:</th></tr></thead> <tbody><tr style=\"text-align: left;\"><td>[[ 0.99987661  0.99999386]]\n",
    "<br/> -6.00006477319<br/> </td> </tr></tbody>  </table>"
   ]
  },
  {
   "cell_type": "code",
   "execution_count": 18,
   "metadata": {
    "collapsed": true
   },
   "outputs": [],
   "source": [
    "def backward_propagate(X,yhat,a):\n",
    "    m = X.shape[1]\n",
    "    dw = 1.0/m*np.dot(X,(a-yhat).T)\n",
    "    db = 1.0/m*np.sum(a-yhat)\n",
    "    return dw,db"
   ]
  },
  {
   "cell_type": "markdown",
   "metadata": {},
   "source": [
    "**Let us test if the backward propagation is implemented correctly**"
   ]
  },
  {
   "cell_type": "code",
   "execution_count": 19,
   "metadata": {},
   "outputs": [
    {
     "name": "stdout",
     "output_type": "stream",
     "text": [
      "[[ 0.99993216]\n",
      " [ 1.99980262]]\n",
      "0.499935230625\n"
     ]
    }
   ],
   "source": [
    "dw, db = backward_propagate(X,yhat,activation)\n",
    "print dw\n",
    "print db"
   ]
  },
  {
   "cell_type": "markdown",
   "metadata": {},
   "source": [
    "<table border=\"1\" class=\"dataframe\"> <thead>    <tr style=\"text-align: right;\"> <th>Expected output:</th></tr></thead> <tbody><tr style=\"text-align: left;\"><td>[[ 0.99993216] <br/> [ 1.99980262]] <br/> 0.499935230625 </td> </tr></tbody>  </table>"
   ]
  },
  {
   "cell_type": "code",
   "execution_count": 20,
   "metadata": {
    "collapsed": true
   },
   "outputs": [],
   "source": [
    "def fit(X,yhat):\n",
    "    n = X.shape[0]\n",
    "    w,b = create_params(n)\n",
    "    alpha = 0.005\n",
    "    for i in range(2000):\n",
    "        activation, loss = forward_propagate(X,yhat,w,b)\n",
    "        dw,db = backward_propagate(X,yhat,activation)\n",
    "        w -= alpha*dw\n",
    "        b -= alpha*db\n",
    "        if i % 100 == 0:\n",
    "            print loss"
   ]
  },
  {
   "cell_type": "code",
   "execution_count": 50,
   "metadata": {},
   "outputs": [
    {
     "name": "stdout",
     "output_type": "stream",
     "text": [
      "(2, 1) (1, 2)\n",
      "-0.6931471805599453\n",
      "-0.6691450350595828\n",
      "-0.6577972607668807\n",
      "-0.6469398689225863\n",
      "-0.6363347464195545\n",
      "-0.6259716079871211\n",
      "-0.6158447844841767\n",
      "-0.6059487644141899\n",
      "-0.5962781111842828\n",
      "-0.5868274661576235\n",
      "-0.5775915525537973\n",
      "-0.5685651788233299\n",
      "-0.5597432415440944\n",
      "-0.5511207278757766\n",
      "-0.542692717602205\n",
      "-0.5344543847897911\n",
      "-0.5264009990894083\n",
      "-0.5185279267081349\n",
      "-0.5108306310763145\n",
      "-0.5033046732343502\n"
     ]
    }
   ],
   "source": [
    "\n",
    "print w.shape, yhat.shape\n",
    "fit(X,yhat)"
   ]
  },
  {
   "cell_type": "code",
   "execution_count": null,
   "metadata": {
    "collapsed": true
   },
   "outputs": [],
   "source": []
  }
 ],
 "metadata": {
  "kernelspec": {
   "display_name": "Python 2",
   "language": "python",
   "name": "python2"
  },
  "language_info": {
   "codemirror_mode": {
    "name": "ipython",
    "version": 2
   },
   "file_extension": ".py",
   "mimetype": "text/x-python",
   "name": "python",
   "nbconvert_exporter": "python",
   "pygments_lexer": "ipython2",
   "version": "2.7.12"
  }
 },
 "nbformat": 4,
 "nbformat_minor": 2
}
