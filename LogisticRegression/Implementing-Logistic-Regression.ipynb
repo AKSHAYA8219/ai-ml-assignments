{
 "cells": [
  {
   "cell_type": "markdown",
   "metadata": {},
   "source": [
    "# Implementing logistic regression\n",
    "\n",
    "In this assignment you will learn to implement logistic regression and apply it on a toy dataset. Logistic regression is a popular machine learning technique used for binary classification. In a binary classification problem, each input belongs to one of two classes, say 0 or 1, and the goal is to predict the correct class of each input. \n",
    "\n",
    "While logistic regression is a standard machine learning algorithm used for binary classification, it can also be thought of as a simple neural network. Hence, we chose logistic regression for this exercise since it will help you understand some of the basic principles of machine learning and neural networks.\n",
    "\n",
    "#### Instructions\n",
    "-  Do not use any additional libraries other than what is already specified below\n",
    "-  Do not use loops in your code\n",
    "-  Do not edit \"Expected output\" markdown cells\n"
   ]
  },
  {
   "cell_type": "markdown",
   "metadata": {},
   "source": [
    "### 1. Import Libraries\n",
    "For this assignment we will import the following libraries:"
   ]
  },
  {
   "cell_type": "code",
   "execution_count": 1,
   "metadata": {},
   "outputs": [],
   "source": [
    "import numpy as np\n",
    "import matplotlib.pyplot as plt\n",
    "import sys\n",
    "sys.path.append('..')\n",
    "from utils import utils\n"
   ]
  },
  {
   "cell_type": "markdown",
   "metadata": {},
   "source": [
    "### 2. Sigmoid\n",
    "Let us start this assignment by implementing the sigmoid function."
   ]
  },
  {
   "cell_type": "code",
   "execution_count": 2,
   "metadata": {
    "collapsed": true
   },
   "outputs": [],
   "source": [
    "def sigmoid(z):\n",
    "    \n",
    "    # You need to apply the sigmoid function on each element of z and return the values\n",
    "\n",
    "    # Implement the sigmoid function below\n",
    "    \n",
    "    s = 1.0/(1+np.exp(-z))\n",
    "    return s"
   ]
  },
  {
   "cell_type": "markdown",
   "metadata": {},
   "source": [
    "#### Testing\n",
    "Let us test if the sigmoid function is implemented correctly\n",
    "\n",
    "Check that for input values 10,  -5,   0,   5,  and 10 you get the expected output as given in the table below\n"
   ]
  },
  {
   "cell_type": "code",
   "execution_count": 3,
   "metadata": {},
   "outputs": [
    {
     "name": "stdout",
     "output_type": "stream",
     "text": [
      "Input:  [-10  -5   0   5  10]\n",
      "Expected output:  [  4.53978687e-05   6.69285092e-03   5.00000000e-01   9.93307149e-01\n",
      "   9.99954602e-01]\n"
     ]
    }
   ],
   "source": [
    "z = np.arange(-10,11,5)\n",
    "sig = sigmoid(z)\n",
    "print \"Input: \",z\n",
    "print \"Expected output: \",sig"
   ]
  },
  {
   "cell_type": "markdown",
   "metadata": {},
   "source": [
    "<table border=\"1\" class=\"dataframe\">  <thead>    <tr style=\"text-align: right;\">      <th>Input</th>      <th>Expected output</th>    </tr>  </thead>  <tbody>    <tr>      <td>-10.0</td>      <td>0.000045</td>    </tr>    <tr>      <td>-5.0</td>      <td>0.006693</td>    </tr>    <tr>      <td>0.0</td>      <td>0.500000</td>    </tr>    <tr>      <td>5.0</td>      <td>0.993307</td>    </tr>    <tr>      <td>10.0</td>      <td>0.999955</td>    </tr>  </tbody></table> "
   ]
  },
  {
   "cell_type": "markdown",
   "metadata": {},
   "source": [
    "**Let us also visualize the sigmoid function**\n",
    "\n",
    "<img src=\"sigmoid.jpg\" align=\"left\" alt=\"Expected plot of sigmoid function\" title=\"Expected plot of sigmoid function\" />\n",
    "<p style=\"clear:left\">\n",
    "The sigmoid function you plot should look like the above figure.\n",
    "Run the cell below to visualize the sigmoid function you have implemented.\n",
    "</p>"
   ]
  },
  {
   "cell_type": "code",
   "execution_count": 4,
   "metadata": {},
   "outputs": [
    {
     "data": {
      "image/png": "[encoded data removed]",
      "text/plain": [
       "<matplotlib.figure.Figure at 0x7f8b0b624bd0>"
      ]
     },
     "metadata": {},
     "output_type": "display_data"
    }
   ],
   "source": [
    "z = np.arange(-10., 11., 1)\n",
    "sig = sigmoid(z)\n",
    "plt.plot(z,sig)\n",
    "plt.plot(z,sig,'bo')\n",
    "plt.show()"
   ]
  },
  {
   "cell_type": "markdown",
   "metadata": {},
   "source": [
    "### 3. Data Representation and Parameters\n",
    "Assuming there are $m$ training samples, the pair $(x^{(i)}, \\hat{y}^{(i)})$ denote the $i^{th}$ training sample. Each training sample consists of $n$ features denoted by $x^{(i)}$ and the correponding class label $\\hat{y}^{(i)}$. For each training sample, the features $x^{(i)}$ can be thought of as an $n\\times1$ column vector. When we use $n$ features for representing an input, the number of parameters in logistic regression becomes $n+1$ where the first $n$ parameters are the weights $w$ and the last parameter is the bias term $b$. The optimal values for these parameters are determined during the training phase which consists of forward propagation and back propagation so that the parameters maximize the accuracy of predicting the values of $\\hat{y}^{(i)}$.\n",
    "\n",
    "For vectorized operations, we arrange the column vectors corresponding to all the features of the training samples in the form of a $n \\times m$ matrix $X$, the ground truth class labels as a $1 \\times m$ row vector $\\hat{y}$, and the weight parameters $w$ as a $n \\times 1$ column vector. Here is an example of three training samples each containing two features with class labels 0, 1, 0 respectively.\n",
    "$\n",
    "\\begin{align*}\n",
    "    x^{(1)} &= \\begin{bmatrix}\n",
    "           1 \\\\\n",
    "           2 \\\\\n",
    "         \\end{bmatrix};\n",
    "         &\n",
    "    x^{(2)} &= \\begin{bmatrix}\n",
    "           3 \\\\\n",
    "           4 \\\\\n",
    "         \\end{bmatrix};\n",
    "         &\n",
    "     x^{(3)} &= \\begin{bmatrix}\n",
    "       5 \\\\\n",
    "       6 \\\\\n",
    "     \\end{bmatrix}.\n",
    "     &\n",
    "     \\textrm{Then,}\\;\n",
    "     X &= \\begin{bmatrix}\n",
    "           1\\;3\\;5 \\\\\n",
    "           2\\;4\\;6\\\\\n",
    "         \\end{bmatrix},\n",
    "     &\n",
    "     \\hat y &= \\begin{bmatrix}\n",
    "           0\\;1\\;0\n",
    "         \\end{bmatrix}.\n",
    "\\end{align*}\n",
    "$\n",
    "\n",
    "And the parameters to be estimated are the weights\n",
    "$\n",
    "\\begin{align*}\n",
    "     w &= \\begin{bmatrix}\n",
    "           w_1\\\\\n",
    "           w_2\\\\\n",
    "         \\end{bmatrix}, \n",
    "\\end{align*}\n",
    "$\n",
    "and the bias $b$.\n",
    "\n",
    "\n",
    " \n",
    "Use the cell below to create the parameters $w$ and $b$ and initialize them with zeros.\n"
   ]
  },
  {
   "cell_type": "code",
   "execution_count": 5,
   "metadata": {
    "collapsed": true
   },
   "outputs": [],
   "source": [
    "def create_params(n):\n",
    "    # Create the parameters w and b and initialise them with zeros\n",
    "    w = np.zeros((n,1))\n",
    "    b = 0.0\n",
    "    return w,b"
   ]
  },
  {
   "cell_type": "markdown",
   "metadata": {},
   "source": [
    "#### Testing \n",
    "Let us verify if create_params is creating the parameters correctly."
   ]
  },
  {
   "cell_type": "code",
   "execution_count": 6,
   "metadata": {},
   "outputs": [
    {
     "name": "stdout",
     "output_type": "stream",
     "text": [
      "[[ 0.]\n",
      " [ 0.]]\n",
      "0.0\n"
     ]
    }
   ],
   "source": [
    "w,b = create_params(2)\n",
    "\n",
    "print w\n",
    "print b"
   ]
  },
  {
   "cell_type": "markdown",
   "metadata": {},
   "source": [
    "<table border=\"1\" class=\"dataframe\"> <thead>    <tr style=\"text-align: right;\">      <th>Expected output</th>    </tr>  </thead><tbody> <tr style=\"text-align: right;\"><td>  [ [0. ] <br/>&nbsp; [0. ] ] <br/> 0.0   </td></tr>  </tbody></table>"
   ]
  },
  {
   "cell_type": "markdown",
   "metadata": {},
   "source": [
    "### 4. Forward Propagation\n",
    "  \n",
    "To train our simple neural network i.e., to estimate the parameters, we need to do forward and backward propagation. During forward propagation, you determine using a loss function how good the current value of the parameters are. The loss function for logistic regression (our simple neural network) using $m$ training samples is:\n",
    "\n",
    "$L = -\\frac{1}{m}\\sum_{i=1}^{m}\\hat y^{(i)}\\log(a^{(i)})+(1-\\hat y^{(i)})\\log(1-a^{(i)})$\n",
    "\n",
    "where $a^{(i)} = sigmoid( \\sum_{j=1}^{n} w_jx^{(i)}_j + b) $ is the activation for the i-th training sample.\n",
    "\n",
    "You have to implement the forward propagation and return the value of the activation and loss using vectorized implementations."
   ]
  },
  {
   "cell_type": "code",
   "execution_count": 7,
   "metadata": {
    "collapsed": true
   },
   "outputs": [],
   "source": [
    "def forward_propagate(X,yhat,w,b):\n",
    "    # Implement forward propagation by \n",
    "    #     1. calculating the activation using sigmoid function\n",
    "    #     2. calculating the loss using the equation for L above\n",
    "    \n",
    "    a = sigmoid(np.dot(w.T,X)+b)\n",
    "    loss = -np.mean(yhat*np.log(a) + (1.0-yhat)*np.log(1.0-a))\n",
    "    \n",
    "    # return the values of activation and loss\n",
    "    return a,loss"
   ]
  },
  {
   "cell_type": "markdown",
   "metadata": {},
   "source": [
    "#### Testing \n",
    "To test forward and backward propagation, let us use the values below for $w, b, X,$ and $\\hat y$. Check that the activation and loss returned by the forward_propagate function matches the expected values."
   ]
  },
  {
   "cell_type": "code",
   "execution_count": 8,
   "metadata": {},
   "outputs": [
    {
     "name": "stdout",
     "output_type": "stream",
     "text": [
      "[[ 0.98201379  0.99752738  0.99966465]]\n",
      "2.00698700648\n"
     ]
    }
   ],
   "source": [
    "w = np.array([[0], [1]])\n",
    "b = 2\n",
    "X = np.array([[1, 3, 5],[2, 4, 6]]) \n",
    "yhat = np.array([[1, 0, 1]])\n",
    "a,loss = forward_propagate(X,yhat,w,b)\n",
    "print a\n",
    "print loss"
   ]
  },
  {
   "cell_type": "markdown",
   "metadata": {},
   "source": [
    "<table border=\"1\" class=\"dataframe\"> <thead>    <tr style=\"text-align: right;\">      <th>Expected output</th>    </tr>  </thead><tbody> <tr style=\"text-align: right;\"><td>  [[0.98201379 0.99752738 0.99966465]] <br/>2.006987006476161</td></tr>  </tbody></table>"
   ]
  },
  {
   "cell_type": "markdown",
   "metadata": {},
   "source": [
    "### 5. Backward Propagation\n",
    "\n",
    "Now let us implement the backward propagation where you compute the derivatives of the loss function with respect to the parameters $w$ and $b$. The derivatives are given by:\n",
    "\n",
    "\\begin{align}\n",
    "\\frac{\\partial L}{\\partial w_j} &= \\frac{1}{m} \\sum_{i=1}^{m} x^{(i)}_j \\cdot (a^{(i)}-\\hat y^{(i)})\\\\\n",
    "\\frac{\\partial L}{\\partial b} &= \\frac{1}{m} \\sum_{i=1}^m (a^{(i)}-y^{(i)})\n",
    "\\end{align}\n",
    "You should write a vectorized implementation without using any loops."
   ]
  },
  {
   "cell_type": "code",
   "execution_count": 9,
   "metadata": {
    "collapsed": true
   },
   "outputs": [],
   "source": [
    "def backward_propagate(X,yhat,a):\n",
    "    # Implement backward propagation using the equations above without using any loops\n",
    "    m = X.shape[1]\n",
    "    dw = 1.0/m*np.dot(X,(a-yhat).T)\n",
    "    db = 1.0/m*np.sum(a-yhat)\n",
    "    \n",
    "    #return derivative of loss with respect to w and b, i.e., dw and db\n",
    "    return dw,db"
   ]
  },
  {
   "cell_type": "markdown",
   "metadata": {},
   "source": [
    "#### Testing \n",
    "Check that the results match the expected output."
   ]
  },
  {
   "cell_type": "code",
   "execution_count": 10,
   "metadata": {},
   "outputs": [
    {
     "name": "stdout",
     "output_type": "stream",
     "text": [
      "[[ 0.99097306]\n",
      " [ 1.317375  ]]\n",
      "0.326401938917\n"
     ]
    }
   ],
   "source": [
    "w = np.array([[0], [1]])\n",
    "b = 2\n",
    "X = np.array([[1, 3, 5],[2, 4, 6]]) \n",
    "yhat = np.array([[1, 0, 1]])\n",
    "dw,db = backward_propagate(X,yhat,a)\n",
    "print dw\n",
    "print db"
   ]
  },
  {
   "cell_type": "markdown",
   "metadata": {},
   "source": [
    "<table border=\"1\" class=\"dataframe\"> <thead>    <tr style=\"text-align: left;\">      <th>Expected output</th>    </tr>  </thead><tbody> <tr style=\"text-align: left;\"><td>  [[0.99097306]<br/>[1.317375  ]]<br/>0.3264019389169358</td></tr>  </tbody></table>"
   ]
  },
  {
   "cell_type": "markdown",
   "metadata": {},
   "source": [
    "### 6. Finding the optimal value for the parameters\n",
    "\n",
    "Using the forward and backward propagation that was implemented above, let us now write the function that will do gradient descent and determine the optimal value of the parameters that minimizes the loss. Let us call this function fit. It takes as arguments the input $X$, the groundtruth labels $\\hat y$, the number of iterations to run, and the learning rate. "
   ]
  },
  {
   "cell_type": "code",
   "execution_count": 11,
   "metadata": {
    "collapsed": true
   },
   "outputs": [],
   "source": [
    "def fit(X,yhat,numiter,lr,display_loss = False):\n",
    "    # Implement the fit fuction that determines optimal values for the parameters w and b using gradient descent.\n",
    "    \n",
    "    # Create the parameters\n",
    "    n = X.shape[0]\n",
    "    w,b = create_params(n)\n",
    "    \n",
    "    # Iterate for numiter\n",
    "    for i in range(numiter):\n",
    "        # Calculate activation and loss using forward propagation\n",
    "        a,loss = forward_propagate(X,yhat,w,b)\n",
    "        \n",
    "        # Calculate dw and db using backward propagation\n",
    "        dw,db = backward_propagate(X,yhat,a)\n",
    "        \n",
    "        # Update the parameters\n",
    "        w -= lr*dw\n",
    "        b -= lr*db\n",
    "        \n",
    "        if display_loss and i % 100 == 0:\n",
    "            print loss\n",
    "    # Return the optimal w and b\n",
    "    return w,b"
   ]
  },
  {
   "cell_type": "markdown",
   "metadata": {},
   "source": [
    "#### Testing \n",
    "Check that the results match the expected output."
   ]
  },
  {
   "cell_type": "code",
   "execution_count": 12,
   "metadata": {},
   "outputs": [
    {
     "name": "stdout",
     "output_type": "stream",
     "text": [
      "0.69314718056\n",
      "0.645057981036\n",
      "0.644522829837\n",
      "0.64405640315\n",
      "0.643617579366\n",
      "[[ 0.02845113]\n",
      " [ 0.10866157]]\n",
      "0.0802104432512\n"
     ]
    }
   ],
   "source": [
    "w,b = fit(X,yhat,500,0.005,True)\n",
    "print w\n",
    "print b"
   ]
  },
  {
   "cell_type": "markdown",
   "metadata": {},
   "source": [
    "<table border=\"1\" class=\"dataframe\"> <thead>    <tr style=\"text-align: left;\">      <th>Expected output</th>    </tr>  </thead><tbody> <tr style=\"text-align: left;\"><td>  0.6931471805599453<br/>\n",
    "1.0019505793318735<br/>\n",
    "0.7506026263399358<br/>\n",
    "0.8973193861672867<br/>\n",
    "0.9111127740792093<br/>\n",
    "    [[0.02845113]<br/>\n",
    " [0.10866157]] <br/>\n",
    "    0.08021044325121013\n",
    "    </td></tr>  </tbody></table>"
   ]
  },
  {
   "cell_type": "markdown",
   "metadata": {},
   "source": [
    "### 7. Inference using the learned parameters\n",
    "Finally, let us write a function that will make predictions for a new input."
   ]
  },
  {
   "cell_type": "code",
   "execution_count": 13,
   "metadata": {
    "collapsed": true
   },
   "outputs": [],
   "source": [
    "def predict(X,w,b):\n",
    "    # Implement the function to predict the output for a new input using the learned parameters.\n",
    "    # Since we are using a binary classifer, the output has to be either a 0 or a 1, so you need\n",
    "    # to convert the output to a 0 or a 1.\n",
    "    act = sigmoid(np.dot(w.T,X)+b)\n",
    "    pred = np.round(act)\n",
    "    return pred"
   ]
  },
  {
   "cell_type": "markdown",
   "metadata": {},
   "source": [
    "#### Testing \n",
    "Check that the results match the expected output."
   ]
  },
  {
   "cell_type": "code",
   "execution_count": 14,
   "metadata": {},
   "outputs": [
    {
     "name": "stdout",
     "output_type": "stream",
     "text": [
      "[[ 1.  1.  1.]]\n"
     ]
    }
   ],
   "source": [
    "w = np.array([[0], [1]])\n",
    "b = 2\n",
    "X = np.array([[1, 3, 5],[2, 4, 6]])\n",
    "pred = predict(X,w,b)\n",
    "print pred"
   ]
  },
  {
   "cell_type": "markdown",
   "metadata": {},
   "source": [
    "<table border=\"1\" class=\"dataframe\"> <thead>    <tr style=\"text-align: left;\">      <th>Expected output</th>    </tr>  </thead>\n",
    "    <tbody>\n",
    "        <tr style=\"text-align: left;\">\n",
    "            <td>\n",
    "                [[1. 1. 1.]]<br/>\n",
    "            </td>\n",
    "        </tr>\n",
    "    </tbody>\n",
    "</table>"
   ]
  },
  {
   "cell_type": "markdown",
   "metadata": {},
   "source": [
    "### 8. Putting it all together\n",
    "\n",
    "Now let us put it all together to classify a simple dataset. Let us first create a simple dataset, split it into training and testing sets and visualise it. For this, we will use the code from http://cs231n.github.io/neural-networks-case-study/"
   ]
  },
  {
   "cell_type": "code",
   "execution_count": 15,
   "metadata": {},
   "outputs": [
    {
     "data": {
      "image/png": "[encoded data removed]",
      "text/plain": [
       "<matplotlib.figure.Figure at 0x7f8b09542590>"
      ]
     },
     "metadata": {},
     "output_type": "display_data"
    },
    {
     "data": {
      "image/png": "[encoded data removed]",
      "text/plain": [
       "<matplotlib.figure.Figure at 0x7f8b0955ab50>"
      ]
     },
     "metadata": {},
     "output_type": "display_data"
    }
   ],
   "source": [
    "\n",
    "X_train,yhat_train,X_test,yhat_test = utils.create_simple_dataset()"
   ]
  },
  {
   "cell_type": "markdown",
   "metadata": {},
   "source": [
    "Using the training set, let us estimate the parameters and use it for prediction."
   ]
  },
  {
   "cell_type": "code",
   "execution_count": 16,
   "metadata": {},
   "outputs": [
    {
     "name": "stdout",
     "output_type": "stream",
     "text": [
      "Accuracy of prediction: 0.675\n"
     ]
    }
   ],
   "source": [
    "\n",
    "w,b = fit(X_train,yhat_train,5000,0.05)\n",
    "\n",
    "res = predict(X_test,w,b)\n",
    "\n",
    "print \"Accuracy of prediction: \" + str(np.sum(res == yhat_test)/float(res.shape[1]))"
   ]
  },
  {
   "cell_type": "markdown",
   "metadata": {},
   "source": [
    "Let us now visualize the classifier"
   ]
  },
  {
   "cell_type": "code",
   "execution_count": 17,
   "metadata": {},
   "outputs": [
    {
     "data": {
      "image/png": "[encoded data removed]",
      "text/plain": [
       "<matplotlib.figure.Figure at 0x7f8b0930a410>"
      ]
     },
     "metadata": {},
     "output_type": "display_data"
    }
   ],
   "source": [
    "utils.vis_classifier(X_test,yhat_test,w,b)"
   ]
  },
  {
   "cell_type": "code",
   "execution_count": null,
   "metadata": {
    "collapsed": true
   },
   "outputs": [],
   "source": []
  },
  {
   "cell_type": "code",
   "execution_count": null,
   "metadata": {
    "collapsed": true
   },
   "outputs": [],
   "source": []
  }
 ],
 "metadata": {
  "kernelspec": {
   "display_name": "Python 2",
   "language": "python",
   "name": "python2"
  },
  "language_info": {
   "codemirror_mode": {
    "name": "ipython",
    "version": 2
   },
   "file_extension": ".py",
   "mimetype": "text/x-python",
   "name": "python",
   "nbconvert_exporter": "python",
   "pygments_lexer": "ipython2",
   "version": "2.7.12"
  }
 },
 "nbformat": 4,
 "nbformat_minor": 2
}
